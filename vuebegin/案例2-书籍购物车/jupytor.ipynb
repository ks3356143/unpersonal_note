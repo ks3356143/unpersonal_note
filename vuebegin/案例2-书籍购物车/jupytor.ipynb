{
 "cells": [
  {
   "cell_type": "code",
   "execution_count": 12,
   "source": [
    "a = ''.join([\"FB\",\"3D\",\"9F\"])"
   ],
   "outputs": [],
   "metadata": {}
  }
 ],
 "metadata": {
  "orig_nbformat": 4,
  "language_info": {
   "name": "python",
   "version": "3.9.6",
   "mimetype": "text/x-python",
   "codemirror_mode": {
    "name": "ipython",
    "version": 3
   },
   "pygments_lexer": "ipython3",
   "nbconvert_exporter": "python",
   "file_extension": ".py"
  },
  "kernelspec": {
   "name": "python3",
   "display_name": "Python 3.9.6 64-bit"
  },
  "interpreter": {
   "hash": "8524a97a52d92a1b8447f354c7480cf8093d8999bb247fadfaca738b17ad76c2"
  }
 },
 "nbformat": 4,
 "nbformat_minor": 2
}